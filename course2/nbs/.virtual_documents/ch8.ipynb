





graph1 = {
    's': ('a', 'b'),
    'a': ('c', 's'),
    'b': ('c', 'd', 's'),
    'c': ('a', 'b', 'd', 'e'),
    'd': ('b', 'c', 'e'),
    'e': ('c', 'd')
}


from collections import deque

def bfs(graph, start):
    explored = set(start)
    queue = deque([start])
    while queue:
        v = queue.pop()
        for w in graph[v]:
            if w not in explored:
                explored.add(w)
                queue.appendleft(w)
    return explored


bfs(graph1, 's')





graph2 = {
    's': ('a', 'b'),
    'a': ('c', 's'),
    'b': ('c', 'd', 's'),
    'c': ('a', 'b', 'd', 'e'),
    'd': ('b', 'c', 'e'),
    'e': ('c', 'd'),
    # Disconnected part
    'f': ('g', 'h'),
    'g': ('f', 'h'),
    'h': ('f', 'g')
}


bfs(graph2, 's')


bfs(graph2, 'g')





from math import inf

def shortest_path(graph, start):
    # Note the initialization of the dictionary containing
    # the distances from the start node.
    dist = {k: inf if k != start else 0 for k in graph}
    explored = set(start)
    queue = deque([start])
    while queue:
        v = queue.pop()
        for w in graph[v]:
            if w not in explored:
                explored.add(w)
                dist[w] = dist[v] + 1
                queue.appendleft(w)
    return explored, dist


res, dists = shortest_path(graph1, 's')
dists





def conn_comp(graph):
    comp = {k: -1 for k in graph}
    # The number of components is initialized to 0, not 1.
    ncc = 0
    explored = set()
    for s in graph:
        if s not in explored:
            ncc += 1
            queue = deque([s])
            while queue:
                v = queue.pop()
                comp[v] = ncc
                for w in graph[v]:
                    if w not in explored:
                        explored.add(w)
                        queue.appendleft(w)
    return ncc, comp


conn_comp(graph1)


conn_comp(graph2)





def dfs(graph, start):
    # explored is initially empty.
    explored = set()
    # We use a stack, initialized to start
    stack = [start]
    while stack:
        v = stack.pop()
        if v not in explored:
            explored.add(v)
            for w in graph[v]:
                stack.append(w)
    return explored





def bfs(graph, start):
    # explored initially contains start
    explored = set(start)
    # We use a queue, initialized to start
    queue = deque([start])
    while queue:
        v = queue.pop()
        for w in graph[v]:
            if w not in explored:
                explored.add(w)
                queue.appendleft(w)
    return explored


dfs(graph1, 's')





explored = set()

def dfs_rec1(graph, start):
    explored.add(start)
    for v in graph[start]:
        if v not in explored:
            dfs_rec1(graph, v)


print("Before: ", explored)
dfs_rec1(graph1, 's')
print("After:  ", explored)





def dfs_rec2(graph, start):
    explored = set()
    def dfs_inner(graph, start):
        explored.add(start)
        for v in graph[start]:
            if v not in explored:
                dfs_inner(graph, v)
    dfs_inner(graph, start)
    return explored


explored = set()  # Just to be sure
res = dfs_rec2(graph1, 's')
res
