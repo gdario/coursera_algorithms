{
 "cells": [
  {
   "cell_type": "markdown",
   "id": "2dc773be-0065-434e-a288-88622179fac0",
   "metadata": {},
   "source": [
    "# Chatper 8: Graph Search and its Applications\n",
    "\n",
    "## Breadth First Search (BFS)"
   ]
  },
  {
   "cell_type": "markdown",
   "id": "b12fede2-c481-4b94-9520-22d671abd17e",
   "metadata": {},
   "source": [
    "<div>\n",
    "<img src=\"img/fig8.5.jpg\" width=\"600\"/>\n",
    "</div>"
   ]
  },
  {
   "cell_type": "code",
   "execution_count": 23,
   "id": "087bccfe-d115-4e22-871b-0935c1293646",
   "metadata": {},
   "outputs": [],
   "source": [
    "graph1 = {\n",
    "    's': ('a', 'b'),\n",
    "    'a': ('c', 's'),\n",
    "    'b': ('c', 'd', 's'),\n",
    "    'c': ('a', 'b', 'd', 'e'),\n",
    "    'd': ('b', 'c', 'e'),\n",
    "    'e': ('c', 'd')\n",
    "}"
   ]
  },
  {
   "cell_type": "code",
   "execution_count": 24,
   "id": "31e2475d-a8bd-4b1d-8db3-fe78bfe8f04f",
   "metadata": {},
   "outputs": [],
   "source": [
    "from collections import deque\n",
    "\n",
    "def bfs(graph, start):\n",
    "    # explored = {start}\n",
    "    explored = [start]\n",
    "    queue = deque([start])\n",
    "    while queue:\n",
    "        v = queue.pop()\n",
    "        for w in graph[v]:\n",
    "            if w not in explored:\n",
    "                # explored.add(w)\n",
    "                explored.append(w)\n",
    "                queue.appendleft(w)\n",
    "    return explored"
   ]
  },
  {
   "cell_type": "code",
   "execution_count": 25,
   "id": "fcd69342-9134-44f3-ab75-78a6f77a57ba",
   "metadata": {},
   "outputs": [
    {
     "data": {
      "text/plain": [
       "['s', 'a', 'b', 'c', 'd', 'e']"
      ]
     },
     "execution_count": 25,
     "metadata": {},
     "output_type": "execute_result"
    }
   ],
   "source": [
    "bfs(graph1, 's')"
   ]
  },
  {
   "cell_type": "markdown",
   "id": "948248be-d7aa-41a8-9faf-a5c4635e3795",
   "metadata": {},
   "source": [
    "### Two disjoint graphs"
   ]
  },
  {
   "cell_type": "code",
   "execution_count": 26,
   "id": "9716f84c-4594-4519-b2e9-fd36a2705d67",
   "metadata": {},
   "outputs": [],
   "source": [
    "graph2 = {\n",
    "    's': ('a', 'b'),\n",
    "    'a': ('c', 's'),\n",
    "    'b': ('c', 'd', 's'),\n",
    "    'c': ('a', 'b', 'd', 'e'),\n",
    "    'd': ('b', 'c', 'e'),\n",
    "    'e': ('c', 'd'),\n",
    "    # Disconnected part\n",
    "    'f': ('g', 'h'),\n",
    "    'g': ('f', 'h'),\n",
    "    'h': ('f', 'g')\n",
    "}"
   ]
  },
  {
   "cell_type": "code",
   "execution_count": 27,
   "id": "24f106f3-604a-419d-b3cc-a5fd8cf6ea15",
   "metadata": {},
   "outputs": [
    {
     "data": {
      "text/plain": [
       "['s', 'a', 'b', 'c', 'd', 'e']"
      ]
     },
     "execution_count": 27,
     "metadata": {},
     "output_type": "execute_result"
    }
   ],
   "source": [
    "bfs(graph2, 's')"
   ]
  },
  {
   "cell_type": "code",
   "execution_count": 28,
   "id": "3097eddd-09d7-43d6-8c1d-4e995753a308",
   "metadata": {},
   "outputs": [
    {
     "data": {
      "text/plain": [
       "['g', 'f', 'h']"
      ]
     },
     "execution_count": 28,
     "metadata": {},
     "output_type": "execute_result"
    }
   ],
   "source": [
    "bfs(graph2, 'g')"
   ]
  },
  {
   "cell_type": "markdown",
   "id": "4543cc7b-1a72-48ff-af2f-b737ba3e5a4a",
   "metadata": {},
   "source": [
    "### Shortest Path\n",
    "\n",
    "If $v$ is in layer $k$ and $w$ is in layer $k+1$, then $\\mathrm{dist}(s, w) = \\mathrm{dist}(s, v) + 1$. This is the same as saying that $w$ is an unexplored neighbor of $v$, its distance is $\\mathrm{dist}(s, v) + 1$."
   ]
  },
  {
   "cell_type": "code",
   "execution_count": 29,
   "id": "b9ba4c9f-eabe-4018-af20-c560b5c20f46",
   "metadata": {},
   "outputs": [],
   "source": [
    "from math import inf\n",
    "\n",
    "def shortest_path(graph, start):\n",
    "    # Note the initialization of the dictionary containing\n",
    "    # the distances from the start node.\n",
    "    dist = {k: inf if k != start else 0 for k in graph}\n",
    "    # explored = {start}\n",
    "    explored = [start]\n",
    "    queue = deque([start])\n",
    "    while queue:\n",
    "        v = queue.pop()\n",
    "        for w in graph[v]:\n",
    "            if w not in explored:\n",
    "                # explored.add(w)\n",
    "                explored.append(w)\n",
    "                dist[w] = dist[v] + 1\n",
    "                queue.appendleft(w)\n",
    "    return explored, dist"
   ]
  },
  {
   "cell_type": "code",
   "execution_count": 30,
   "id": "1460baba-8d09-4922-a260-ce1e27df9e35",
   "metadata": {},
   "outputs": [
    {
     "data": {
      "text/plain": [
       "{'s': 0, 'a': 1, 'b': 1, 'c': 2, 'd': 2, 'e': 3}"
      ]
     },
     "execution_count": 30,
     "metadata": {},
     "output_type": "execute_result"
    }
   ],
   "source": [
    "res, dists = shortest_path(graph1, 's')\n",
    "dists"
   ]
  },
  {
   "cell_type": "markdown",
   "id": "780f0559-085d-49df-bdd3-d7b156a9ff4f",
   "metadata": {},
   "source": [
    "### Connected Components of an Undirected Graph\n",
    "\n",
    "The idea behind finding the connected components in an undirected graph (in a directed graph it is more difficult), is the following:\n",
    "\n",
    "1. Start with a counter set to 0. No node is explored.\n",
    "2. Iterate over every node in the graph:"
   ]
  },
  {
   "cell_type": "code",
   "execution_count": 31,
   "id": "02dedde0-b562-4855-a65e-2bd0557845b6",
   "metadata": {},
   "outputs": [],
   "source": [
    "def conn_comp(graph):\n",
    "    comp = {k: -1 for k in graph}\n",
    "    # The number of components is initialized to 0, not 1.\n",
    "    ncc = 0\n",
    "    # explored = set()\n",
    "    explored = []\n",
    "    for s in graph:\n",
    "        if s not in explored:\n",
    "            ncc += 1\n",
    "            queue = deque([s])\n",
    "            while queue:\n",
    "                v = queue.pop()\n",
    "                comp[v] = ncc\n",
    "                for w in graph[v]:\n",
    "                    if w not in explored:\n",
    "                        # explored.add(w)\n",
    "                        explored.append(w)\n",
    "                        queue.appendleft(w)\n",
    "    return ncc, comp"
   ]
  },
  {
   "cell_type": "code",
   "execution_count": 32,
   "id": "8a90f0a1-aacf-4ccd-b2b9-515e31b7ee88",
   "metadata": {},
   "outputs": [
    {
     "data": {
      "text/plain": [
       "(1, {'s': 1, 'a': 1, 'b': 1, 'c': 1, 'd': 1, 'e': 1})"
      ]
     },
     "execution_count": 32,
     "metadata": {},
     "output_type": "execute_result"
    }
   ],
   "source": [
    "conn_comp(graph1)"
   ]
  },
  {
   "cell_type": "code",
   "execution_count": 33,
   "id": "26b2e945-141f-4656-bf65-7bd5448a4d62",
   "metadata": {},
   "outputs": [
    {
     "data": {
      "text/plain": [
       "(2, {'s': 1, 'a': 1, 'b': 1, 'c': 1, 'd': 1, 'e': 1, 'f': 2, 'g': 2, 'h': 2})"
      ]
     },
     "execution_count": 33,
     "metadata": {},
     "output_type": "execute_result"
    }
   ],
   "source": [
    "conn_comp(graph2)"
   ]
  },
  {
   "cell_type": "markdown",
   "id": "14c6cec5-8f70-49f8-81bb-16e0581793b1",
   "metadata": {},
   "source": [
    "## Depth First Search (DFS)\n",
    "\n",
    "<div>\n",
    "<img src=\"img/dfs.jpg\" width=600/>\n",
    "</div>\n",
    "\n",
    "The two main differences from BFS are:\n",
    "\n",
    "1. DFS uses a stack, while BFS uses a queue.\n",
    "2. DFS checks if a node was already explored only after removing it from the stack.\n",
    "\n",
    "This second point is non-trivial. A thorough discussion can be found in [David Eppstein's blog](https://11011110.github.io/blog/2013/12/17/stack-based-graph-traversal.html). In what follows, we will compare the results of BFS, DFS, and what he calls Stack-Based Graph Traversal (SBGT). See also the [Wikipedia page on Depth-First Search](https://en.wikipedia.org/wiki/Depth-first_search).\n",
    "\n",
    "**Conjecture to be verified** the difference between DFS and SBGT is how the frontier is defined."
   ]
  },
  {
   "cell_type": "code",
   "execution_count": 35,
   "id": "67ce12bf-23ff-4cd0-b4a5-ff2411a9d8c2",
   "metadata": {},
   "outputs": [],
   "source": [
    "def dfs(graph, start):\n",
    "    # explored is initially empty.\n",
    "    # explored = set()\n",
    "    explored = []\n",
    "    # We use a stack, initialized to start\n",
    "    stack = [start]\n",
    "    while stack:\n",
    "        v = stack.pop()\n",
    "        if v not in explored:\n",
    "            # explored.add(v)\n",
    "            explored.append(v)\n",
    "            for w in graph[v]:\n",
    "                stack.append(w)\n",
    "    return explored"
   ]
  },
  {
   "cell_type": "code",
   "execution_count": 36,
   "id": "a3ca488e-bf2b-4394-8b01-f45427cb85e8",
   "metadata": {},
   "outputs": [
    {
     "data": {
      "text/plain": [
       "['s', 'b', 'd', 'e', 'c', 'a']"
      ]
     },
     "execution_count": 36,
     "metadata": {},
     "output_type": "execute_result"
    }
   ],
   "source": [
    "dfs(graph1, 's')"
   ]
  },
  {
   "cell_type": "markdown",
   "id": "6e20dad4-2f08-4931-bc46-f5b8c4f1557b",
   "metadata": {},
   "source": [
    "Let's compare BFS and DFS on a tree"
   ]
  },
  {
   "cell_type": "code",
   "execution_count": 37,
   "id": "f55b8f76-c1d4-46fe-957e-6ab3a027ebdf",
   "metadata": {},
   "outputs": [
    {
     "name": "stdout",
     "output_type": "stream",
     "text": [
      "BFS: ['s', 'a', 'b', 'c', 'd']\n",
      "DFS: ['s', 'b', 'a', 'd', 'c']\n"
     ]
    }
   ],
   "source": [
    "tree = {'s': ['a', 'b'],\n",
    "        'a': ['s', 'c', 'd'],\n",
    "        'c': ['a'],\n",
    "        'd': ['a'],\n",
    "        'b': ['s']}\n",
    "print(f\"BFS: {bfs(tree, 's')}\")\n",
    "print(f\"DFS: {dfs(tree, 's')}\")"
   ]
  },
  {
   "cell_type": "markdown",
   "id": "3511396d-148a-4bd6-91de-32d3560c9513",
   "metadata": {},
   "source": [
    "We also implement the incorrect version of DFS obtained by just replacing the queue with a stack in BFS, i.e, the SGBT, as shown [here](https://11011110.github.io/blog/2013/12/17/stack-based-graph-traversal.html)."
   ]
  },
  {
   "cell_type": "code",
   "execution_count": 38,
   "id": "7529ae41-c2de-49fc-8ed5-4c4881b13584",
   "metadata": {},
   "outputs": [],
   "source": [
    "def sbgt(graph, start):\n",
    "    \"\"\"Stack based graph traversal.\"\"\"\n",
    "    # explored = {start}\n",
    "    explored = [start]\n",
    "    stack = [start]\n",
    "    while stack:\n",
    "        v = stack.pop()\n",
    "        for w in graph[v]:\n",
    "            if w not in explored:\n",
    "                # explored.add(w)\n",
    "                explored.append(w)\n",
    "                stack.append(w)\n",
    "    return explored"
   ]
  },
  {
   "cell_type": "markdown",
   "id": "e9a32104-8ff8-4ad9-b26a-5128be7e2ad5",
   "metadata": {},
   "source": [
    "For comparison, we show the sequence of explorations from BFS, DFS, and SBGT on `graph1`..."
   ]
  },
  {
   "cell_type": "code",
   "execution_count": 39,
   "id": "1c2e593f-6be7-4d3b-80e2-a499bcda5694",
   "metadata": {},
   "outputs": [
    {
     "name": "stdout",
     "output_type": "stream",
     "text": [
      "BFS:  ['s', 'a', 'b', 'c', 'd', 'e']\n",
      "DFS:  ['s', 'b', 'd', 'e', 'c', 'a']\n",
      "SBGT: ['s', 'a', 'b', 'c', 'd', 'e']\n"
     ]
    }
   ],
   "source": [
    "print(f\"BFS:  {bfs(graph1, 's')}\")\n",
    "print(f\"DFS:  {dfs(graph1, 's')}\")\n",
    "print(f\"SBGT: {sbgt(graph1, 's')}\")"
   ]
  },
  {
   "cell_type": "markdown",
   "id": "e6991749-79be-4220-b878-44b5e9a2cb81",
   "metadata": {},
   "source": [
    "... and on `tree`"
   ]
  },
  {
   "cell_type": "code",
   "execution_count": 40,
   "id": "45d3d6bf-f8ff-4ab8-a924-11db93f9a22c",
   "metadata": {},
   "outputs": [
    {
     "name": "stdout",
     "output_type": "stream",
     "text": [
      "BFS:  ['s', 'a', 'b', 'c', 'd']\n",
      "DFS:  ['s', 'b', 'a', 'd', 'c']\n",
      "SBGT: ['s', 'a', 'b', 'c', 'd']\n"
     ]
    }
   ],
   "source": [
    "print(f\"BFS:  {bfs(tree, 's')}\")\n",
    "print(f\"DFS:  {dfs(tree, 's')}\")\n",
    "print(f\"SBGT: {sbgt(tree, 's')}\")"
   ]
  },
  {
   "cell_type": "markdown",
   "id": "0db99ec9-c6e8-4479-be52-579941febcc2",
   "metadata": {},
   "source": [
    "Eppstein shows the difference using the graph below.\n",
    "\n",
    "<div>\n",
    "<img src=\"img/eppstein.jpg\" width=\"300\"/>\n",
    "</div>"
   ]
  },
  {
   "cell_type": "code",
   "execution_count": 41,
   "id": "ae89d6c5-db1b-4982-9aae-5c3964d0728f",
   "metadata": {},
   "outputs": [
    {
     "name": "stdout",
     "output_type": "stream",
     "text": [
      "BFS:  ['s', 'a', 'c', 'b', 'd', 'f', 'e', 'g', 'h']\n",
      "DFS:  ['s', 'c', 'f', 'g', 'h', 'e', 'd', 'a', 'b']\n",
      "SBGT: ['s', 'a', 'c', 'd', 'f', 'g', 'h', 'e', 'b']\n"
     ]
    }
   ],
   "source": [
    "eppstein = {\n",
    "    's': ['a', 'c'],\n",
    "    'a': ['s', 'b', 'd'],\n",
    "    'b': ['a', 'e'],\n",
    "    'c': ['s', 'd', 'f'],\n",
    "    'd': ['a', 'c', 'e', 'g'],\n",
    "    'e': ['b', 'd', 'h'],\n",
    "    'f': ['c', 'g'],\n",
    "    'g': ['d', 'f', 'h'],\n",
    "    'h': ['e', 'g']\n",
    "}\n",
    "\n",
    "print(f\"BFS:  {bfs(eppstein, 's')}\")\n",
    "print(f\"DFS:  {dfs(eppstein, 's')}\")\n",
    "print(f\"SBGT: {sbgt(eppstein, 's')}\")"
   ]
  },
  {
   "cell_type": "markdown",
   "id": "1b9a40b3-a202-4176-b894-b8d4ae182664",
   "metadata": {},
   "source": [
    "In this example the three traversals are all different. The set of explored nodes is the same, but the order in which they are visited is different.\n",
    "\n",
    "### DFS: Recursive Implementation With an External Set\n",
    "\n",
    "The recurrent version requires an external set. In this it looks like we are not using a stack, but this is not the case: we use the stack frame created by the recursive calls."
   ]
  },
  {
   "cell_type": "code",
   "execution_count": 16,
   "id": "4cbb1ea1-2385-4721-b6d4-102d0d631808",
   "metadata": {},
   "outputs": [],
   "source": [
    "explored = set()\n",
    "\n",
    "def dfs_rec1(graph, start):\n",
    "    explored.add(start)\n",
    "    for v in graph[start]:\n",
    "        if v not in explored:\n",
    "            dfs_rec1(graph, v)"
   ]
  },
  {
   "cell_type": "code",
   "execution_count": 17,
   "id": "4e6eafa8-eb8b-4cb8-9fc7-61a7d52d3e9c",
   "metadata": {},
   "outputs": [
    {
     "name": "stdout",
     "output_type": "stream",
     "text": [
      "Before:  set()\n",
      "After:   {'a', 'e', 's', 'b', 'c', 'd'}\n"
     ]
    }
   ],
   "source": [
    "print(\"Before: \", explored)\n",
    "dfs_rec1(graph1, 's')\n",
    "print(\"After:  \", explored)"
   ]
  },
  {
   "cell_type": "markdown",
   "id": "929266ab-e8a9-4302-97a7-1e0ef8e3bbc1",
   "metadata": {},
   "source": [
    "### DFS: Recursive Implementation Without an External Set\n",
    "\n",
    "Rather than having an empty set hanging around, it is safer to wrap the function into another function."
   ]
  },
  {
   "cell_type": "code",
   "execution_count": 18,
   "id": "c5c555b4-81f5-4c3b-98be-9fa148c8b119",
   "metadata": {
    "editable": true,
    "slideshow": {
     "slide_type": ""
    },
    "tags": []
   },
   "outputs": [],
   "source": [
    "def dfs_rec2(graph, start):\n",
    "    explored = set()\n",
    "    def dfs_inner(graph, start):\n",
    "        explored.add(start)\n",
    "        for v in graph[start]:\n",
    "            if v not in explored:\n",
    "                dfs_inner(graph, v)\n",
    "    dfs_inner(graph, start)\n",
    "    return explored"
   ]
  },
  {
   "cell_type": "code",
   "execution_count": 19,
   "id": "eac32a13-317b-473f-91d8-adefb318e77f",
   "metadata": {},
   "outputs": [
    {
     "data": {
      "text/plain": [
       "{'a', 'b', 'c', 'd', 'e', 's'}"
      ]
     },
     "execution_count": 19,
     "metadata": {},
     "output_type": "execute_result"
    }
   ],
   "source": [
    "explored = set()  # Just to be sure\n",
    "res = dfs_rec2(graph1, 's')\n",
    "res"
   ]
  },
  {
   "cell_type": "markdown",
   "id": "1e887e82",
   "metadata": {},
   "source": [
    "### Topological Sort\n",
    "\n",
    "Given a graph $G(V, E)$, a *topological ordering* is a function on the vertices $v \\in V$ such that for every edge $(v, w) \\in E$, $f(v) < f(w)$.\n",
    "\n",
    "#### Topological Sort via DFS\n",
    "\n",
    "Note that we have to use the `nonlocal` keyword. A better approach is probably using a class and implementing this as a method. You can read more on non-local and global variables on Real Python [here](https://realpython.com/python-scope-legb-rule/#the-nonlocal-statement) and [here](https://realpython.com/python-use-global-variable-in-function/)."
   ]
  },
  {
   "cell_type": "code",
   "execution_count": 20,
   "id": "b2707ac5-c399-48d4-b408-21ac821ddd46",
   "metadata": {},
   "outputs": [],
   "source": [
    "def toposort(graph):\n",
    "    explored = set()\n",
    "    ordering = {}\n",
    "    curlabel = len(graph.keys())\n",
    "\n",
    "    def dfs_topo(graph, s):\n",
    "        nonlocal curlabel\n",
    "        explored.add(s)\n",
    "        for w in graph[s]:\n",
    "            if w not in explored:\n",
    "                dfs_topo(graph, w)\n",
    "        ordering[s] = curlabel\n",
    "        curlabel -= 1\n",
    "\n",
    "    for v in graph:\n",
    "        if v not in explored:\n",
    "            dfs_topo(graph, v)\n",
    "    return ordering"
   ]
  },
  {
   "cell_type": "code",
   "execution_count": 21,
   "id": "459dfd14-d5ae-4a49-ae48-31a525a95ea0",
   "metadata": {},
   "outputs": [
    {
     "data": {
      "text/plain": [
       "{'e': 6, 'd': 5, 'b': 4, 'c': 3, 'a': 2, 's': 1}"
      ]
     },
     "execution_count": 21,
     "metadata": {},
     "output_type": "execute_result"
    }
   ],
   "source": [
    "toposort(graph1)"
   ]
  }
 ],
 "metadata": {
  "kernelspec": {
   "display_name": "Python 3 (ipykernel)",
   "language": "python",
   "name": "python3"
  },
  "language_info": {
   "codemirror_mode": {
    "name": "ipython",
    "version": 3
   },
   "file_extension": ".py",
   "mimetype": "text/x-python",
   "name": "python",
   "nbconvert_exporter": "python",
   "pygments_lexer": "ipython3",
   "version": "3.13.3"
  }
 },
 "nbformat": 4,
 "nbformat_minor": 5
}
